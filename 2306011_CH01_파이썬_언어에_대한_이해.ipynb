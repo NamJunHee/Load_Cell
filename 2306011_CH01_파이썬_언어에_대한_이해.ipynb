{
  "nbformat": 4,
  "nbformat_minor": 0,
  "metadata": {
    "colab": {
      "provenance": [],
      "authorship_tag": "ABX9TyMm+kfHELpnCJ7asnVm4Nm2",
      "include_colab_link": true
    },
    "kernelspec": {
      "name": "python3",
      "display_name": "Python 3"
    },
    "language_info": {
      "name": "python"
    }
  },
  "cells": [
    {
      "cell_type": "markdown",
      "metadata": {
        "id": "view-in-github",
        "colab_type": "text"
      },
      "source": [
        "<a href=\"https://colab.research.google.com/github/NamJunHee/Load_Cell/blob/master/2306011_CH01_%ED%8C%8C%EC%9D%B4%EC%8D%AC_%EC%96%B8%EC%96%B4%EC%97%90_%EB%8C%80%ED%95%9C_%EC%9D%B4%ED%95%B4.ipynb\" target=\"_parent\"><img src=\"https://colab.research.google.com/assets/colab-badge.svg\" alt=\"Open In Colab\"/></a>"
      ]
    },
    {
      "cell_type": "markdown",
      "source": [
        "### **학습목표**"
      ],
      "metadata": {
        "id": "Qvr4RppWH98s"
      }
    },
    {
      "cell_type": "markdown",
      "source": [
        "## 1.2 파이썬의 특징"
      ],
      "metadata": {
        "id": "aA90BYRwIEJg"
      }
    },
    {
      "cell_type": "code",
      "source": [
        "print(\"안녕하세요\")"
      ],
      "metadata": {
        "id": "n7ePL-YVICXQ"
      },
      "execution_count": null,
      "outputs": []
    },
    {
      "cell_type": "code",
      "source": [
        "today_temp = 40\n",
        "\n",
        "if today_temp < 30 : \n",
        "  print(\"괜찮은 날씨\")\n",
        "else:\n",
        "  print(\"더운 날씨\")"
      ],
      "metadata": {
        "colab": {
          "base_uri": "https://localhost:8080/"
        },
        "id": "GzmPh9Q1I-Rh",
        "outputId": "0c316c0f-73a2-4b79-f046-a5369420cef6"
      },
      "execution_count": 7,
      "outputs": [
        {
          "output_type": "stream",
          "name": "stdout",
          "text": [
            "더운 날씨\n"
          ]
        }
      ]
    },
    {
      "cell_type": "code",
      "source": [
        "if today_temp < 30:\n",
        "  "
      ],
      "metadata": {
        "id": "RIVOb63oJlMG"
      },
      "execution_count": null,
      "outputs": []
    }
  ]
}